{
  "nbformat": 4,
  "nbformat_minor": 0,
  "metadata": {
    "colab": {
      "name": "auto-mail.ipynb",
      "provenance": [],
      "collapsed_sections": [],
      "mount_file_id": "11dlL173fnIOTgOvsVj3Tw2rwY6v48uyl",
      "authorship_tag": "ABX9TyPUR4/za+8zK6GvaMCCMIhW",
      "include_colab_link": true
    },
    "kernelspec": {
      "name": "python3",
      "display_name": "Python 3"
    }
  },
  "cells": [
    {
      "cell_type": "markdown",
      "metadata": {
        "id": "view-in-github",
        "colab_type": "text"
      },
      "source": [
        "<a href=\"https://colab.research.google.com/github/felipeasb/auto-mail/blob/main/auto_mail.ipynb\" target=\"_parent\"><img src=\"https://colab.research.google.com/assets/colab-badge.svg\" alt=\"Open In Colab\"/></a>"
      ]
    },
    {
      "cell_type": "markdown",
      "metadata": {
        "id": "lhoyxdXmjXn9"
      },
      "source": [
        "**Carregando o arquivo base**"
      ]
    },
    {
      "cell_type": "code",
      "metadata": {
        "id": "_WX58ICogAZY"
      },
      "source": [
        "import pandas as pd\r\n",
        "\r\n",
        "df = pd.read_excel(r'/content/drive/MyDrive/Portfólio/Colab Notebooks/send-py/Vendas.xlsx')\r\n"
      ],
      "execution_count": 2,
      "outputs": []
    },
    {
      "cell_type": "markdown",
      "metadata": {
        "id": "NVC8PQqsjjV6"
      },
      "source": [
        "**Preparando os dados para o relatório (geral) de vendas**"
      ]
    },
    {
      "cell_type": "code",
      "metadata": {
        "id": "gvcELTEYjlFC"
      },
      "source": [
        "faturamento = df[['ID Loja', 'Valor Final']].groupby('ID Loja').sum()\r\n",
        "faturamento = faturamento.sort_values(by='Valor Final', ascending=False)\r\n",
        "\r\n",
        "quantidade = df[['ID Loja', 'Quantidade']].groupby('ID Loja').sum()\r\n",
        "quantidade = quantidade.sort_values(by='ID Loja', ascending=False)\r\n",
        "\r\n",
        "ticket_medio = (faturamento['Valor Final'] / quantidade['Quantidade']).to_frame()\r\n",
        "ticket_medio = ticket_medio.rename(columns={0: 'Ticket Médio'})\r\n",
        "ticket_medio = ticket_medio.sort_values(by='Ticket Médio', ascending=False)\r\n"
      ],
      "execution_count": 3,
      "outputs": []
    },
    {
      "cell_type": "markdown",
      "metadata": {
        "id": "Zx559HP82KsQ"
      },
      "source": [
        "**Desenvolvendo a fução para enviar email**"
      ]
    },
    {
      "cell_type": "code",
      "metadata": {
        "id": "Fq5XWNnulz4w"
      },
      "source": [
        "# Função enviar_email\r\n",
        "\r\n",
        "import smtplib\r\n",
        "import email.message\r\n",
        "\r\n",
        "def enviar_email(resumo_loja, loja)\r\n",
        "\r\n",
        "  servidor = smtplib.SMTP('smtp.gmail.com:587')  \r\n",
        "  \r\n",
        "  corpo_email = f'''\r\n",
        "  <p>Prezado,</p>\r\n",
        "  {resumo_loja.to_html()}\r\n",
        "  <p>Atenciosamente,</p>'''\r\n",
        "    \r\n",
        "  msg = email.message.Message()\r\n",
        "  msg['Subject'] = f'Relatório de vendas - Loja: {loja}'\r\n",
        "    \r\n",
        "  # Inserir o email destinatário e remetente com sua senha  \r\n",
        "  msg['From'] = 'remetente@gmail.com'\r\n",
        "  msg['To'] = 'destinatario@gmail.com'\r\n",
        "  password = \"senha\"\r\n",
        "\r\n",
        "  msg.add_header('Content-Type', 'text/html')\r\n",
        "  msg.set_payload(corpo_email )\r\n",
        "    \r\n",
        "  # Iniciando o login para o envio do email  \r\n",
        "  s = smtplib.SMTP('smtp.gmail.com: 587')\r\n",
        "  s.starttls()\r\n",
        "  s.login(msg['From'], password)\r\n",
        "  s.sendmail(msg['From'], [msg['To']], msg.as_string().encode('utf-8'))\r\n",
        "  print('Email enviado')\r\n"
      ],
      "execution_count": null,
      "outputs": []
    },
    {
      "cell_type": "markdown",
      "metadata": {
        "id": "lkZZprhu8WLA"
      },
      "source": [
        "**Enviando um email com o relatório de cada uma das lojas**"
      ]
    },
    {
      "cell_type": "code",
      "metadata": {
        "id": "U0gX_bmo8WeW"
      },
      "source": [
        "lojas = df['ID Loja'].unique()\r\n",
        "\r\n",
        "for loja in lojas\r\n",
        "  tabela_loja = df.loc[df['ID Loja'] == loja, ['ID Loja', 'Quantidade', 'Valor Final']]\r\n",
        "  resumo_loja = tabela_loja.groupby('ID Loja').sum()\r\n",
        "  resumo_loja['Ticket Médio'] = resumo_loja['Valor Final'] / resumo_loja['Quantidade']\r\n",
        "  enviar_email(resumo_loja, loja)"
      ],
      "execution_count": null,
      "outputs": []
    },
    {
      "cell_type": "markdown",
      "metadata": {
        "id": "3jHok34iA7_b"
      },
      "source": [
        "**Enviando um email com o relatório de todas as lojas (geral)**"
      ]
    },
    {
      "cell_type": "code",
      "metadata": {
        "id": "X4a1ycGAA8My"
      },
      "source": [
        "tabela_diretoria = faturamento.join(quantidade.join(ticket_medio))\r\n",
        "enviar_email(tabela_diretoria, 'todas as lojas')"
      ],
      "execution_count": null,
      "outputs": []
    }
  ]
}